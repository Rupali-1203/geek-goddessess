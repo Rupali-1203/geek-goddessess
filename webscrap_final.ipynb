{
 "cells": [
  {
   "cell_type": "code",
   "execution_count": 28,
   "id": "1cba3f20",
   "metadata": {},
   "outputs": [
    {
     "name": "stdout",
     "output_type": "stream",
     "text": [
      "['https://www.pinterest.com/pin/291185932149816058/', 'https://www.pinterest.com/pin/148970700167842011/', 'https://www.pinterest.com/pin/794181715529613812/', 'https://www.pinterest.com/pin/588634613793321472/', 'https://www.pinterest.com/pin/851039660843658428/', 'https://www.pinterest.com/pin/789115165968114235/', 'https://www.pinterest.com/pin/593067844659790690/']\n"
     ]
    }
   ],
   "source": [
    "from selenium import webdriver\n",
    "from selenium.webdriver.common.by import By\n",
    "from selenium.webdriver.chrome.service import Service\n",
    "from webdriver_manager.chrome import ChromeDriverManager\n",
    "from selenium.webdriver.support.ui import WebDriverWait\n",
    "from selenium.webdriver.support import expected_conditions as EC\n",
    "\n",
    "# Set up Selenium\n",
    "driver = webdriver.Chrome(service=Service(ChromeDriverManager().install()))\n",
    "\n",
    "# Function to scrape Pinterest for a celebrity\n",
    "def scrape_pinterest(celebrity_name):\n",
    "    search_query = f\"{celebrity_name} latest fashion\"\n",
    "    url = f\"https://www.pinterest.com/search/pins/?q={search_query}\"\n",
    "    driver.get(url)\n",
    "    \n",
    "    # Wait until the pins are loaded\n",
    "    try:\n",
    "        pins = WebDriverWait(driver, 10).until(\n",
    "            EC.presence_of_all_elements_located((By.CSS_SELECTOR, 'div[data-test-id=\"pin\"]'))\n",
    "        )\n",
    "    except Exception as e:\n",
    "        print(f\"An error occurred: {e}\")\n",
    "        driver.quit()\n",
    "        return []\n",
    "    \n",
    "    pin_urls = []\n",
    "\n",
    "    for pin in pins[:7]:  # Get the latest 7 pins\n",
    "        try:\n",
    "            pin_url = pin.find_element(By.TAG_NAME, 'a').get_attribute('href')\n",
    "            pin_urls.append(pin_url)\n",
    "        except Exception as e:\n",
    "            print(f\"An error occurred while processing a pin: {e}\")\n",
    "    \n",
    "    return pin_urls\n",
    "\n",
    "# Example usage\n",
    "celebrity = \"Alia Bhatt Latest Dresses\"\n",
    "latest_pins = scrape_pinterest(celebrity)\n",
    "print(latest_pins)\n",
    "\n",
    "driver.quit()\n"
   ]
  },
  {
   "cell_type": "code",
   "execution_count": 29,
   "id": "5377d724",
   "metadata": {},
   "outputs": [
    {
     "name": "stdout",
     "output_type": "stream",
     "text": [
      "Downloaded pinterest_images/image_1.jpg\n",
      "Downloaded pinterest_images/image_2.jpg\n",
      "Downloaded pinterest_images/image_3.jpg\n",
      "Downloaded pinterest_images/image_4.jpg\n",
      "Downloaded pinterest_images/image_5.jpg\n",
      "Downloaded pinterest_images/image_6.jpg\n",
      "Downloaded pinterest_images/image_7.jpg\n",
      "Download complete.\n"
     ]
    }
   ],
   "source": [
    "import requests\n",
    "from bs4 import BeautifulSoup\n",
    "import os\n",
    "\n",
    "# List of Pinterest links\n",
    "pin_links = latest_pins \n",
    "\n",
    "# Create a directory to save images\n",
    "os.makedirs('pinterest_images', exist_ok=True)\n",
    "\n",
    "def download_image(url, path):\n",
    "    response = requests.get(url)\n",
    "    if response.status_code == 200:\n",
    "        with open(path, 'wb') as file:\n",
    "            file.write(response.content)\n",
    "        print(f\"Downloaded {path}\")\n",
    "    else:\n",
    "        print(f\"Failed to download {url}\")\n",
    "\n",
    "def get_image_url(pin_url):\n",
    "    response = requests.get(pin_url)\n",
    "    soup = BeautifulSoup(response.text, 'html.parser')\n",
    "    # Find the meta tag with the property og:image\n",
    "    meta_tag = soup.find('meta', property='og:image')\n",
    "    if meta_tag:\n",
    "        return meta_tag['content']\n",
    "    return None\n",
    "\n",
    "# Loop through each pin link to find and download images\n",
    "for i, pin_link in enumerate(pin_links):\n",
    "    image_url = get_image_url(pin_link)\n",
    "    if image_url:\n",
    "        download_image(image_url, f'pinterest_images/image_{i+1}.jpg')\n",
    "    else:\n",
    "        print(f\"No image found for {pin_link}\")\n",
    "\n",
    "print(\"Download complete.\")\n"
   ]
  },
  {
   "cell_type": "code",
   "execution_count": null,
   "id": "b2bd740d",
   "metadata": {},
   "outputs": [],
   "source": []
  }
 ],
 "metadata": {
  "kernelspec": {
   "display_name": "Python 3 (ipykernel)",
   "language": "python",
   "name": "python3"
  },
  "language_info": {
   "codemirror_mode": {
    "name": "ipython",
    "version": 3
   },
   "file_extension": ".py",
   "mimetype": "text/x-python",
   "name": "python",
   "nbconvert_exporter": "python",
   "pygments_lexer": "ipython3",
   "version": "3.11.4"
  }
 },
 "nbformat": 4,
 "nbformat_minor": 5
}
